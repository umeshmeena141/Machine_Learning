{
 "cells": [
  {
   "cell_type": "code",
   "execution_count": 2,
   "metadata": {},
   "outputs": [],
   "source": [
    "import numpy as np\n",
    "import matplotlib.pyplot as plt\n",
    "import random\n",
    "import itertools\n",
    "import time as tm\n",
    "import sys"
   ]
  },
  {
   "cell_type": "code",
   "execution_count": 49,
   "metadata": {},
   "outputs": [],
   "source": [
    "from cs771 import genSyntheticData as gsd\n",
    "from cs771 import plotData as pd\n",
    "from matplotlib import pyplot as plt\n",
    "import time as tm\n",
    "import random\n",
    "\n",
    "d = 2 \n",
    "n = 60\n",
    "\n",
    "muPos1 = np.array( [-5,5] )\n",
    "muPos2 = np.array( [1,-5] )\n",
    "muNeg = np.array( [-5,-5] )\n",
    "r = 3\n",
    "\n",
    "nOutlier = n//10\n",
    "tmp1 = gsd.genSphericalData( d, n, muPos1, r)\n",
    "tmp2 = gsd.genSphericalData( d, nOutlier, muPos2, r//3 )\n",
    "XPos = np.vstack( (tmp1, tmp2) )\n",
    "XNeg = gsd.genSphericalData( d, n, muNeg, r )\n",
    "yPos = np.ones( (n + nOutlier,) )\n",
    "yNeg = -np.ones( (n,) )\n",
    "X = np.vstack( (XPos, XNeg) )\n",
    "y = np.concatenate( (yPos, yNeg) )"
   ]
  },
  {
   "cell_type": "code",
   "execution_count": 148,
   "metadata": {},
   "outputs": [],
   "source": [
    "import numpy as np\n",
    "import random as rnd\n",
    "import time as tm\n",
    "\n",
    "# You may define any new functions, variables, classes here\n",
    "# For example, functions to calculate next coordinate or step length\n",
    "\n",
    "def getCyclicCoord( currentCoord,n ):\n",
    "    if currentCoord >= n-1 or currentCoord < 0:\n",
    "        return 0\n",
    "    else:\n",
    "        return currentCoord + 1\n",
    "    \n",
    "def getRandCoord( currentCoord,n ):\n",
    "    return rnd.randint( 0, n-1 )\n",
    "\n",
    "def getCSVMObjVal( X,y,w,C):\n",
    "    hingeLoss = np.maximum( 1 - np.multiply( (X.dot( w )), y ), 0 )\n",
    "    return 0.5 * w.dot( w ) + C * hingeLoss.dot( hingeLoss )\n",
    "\n",
    "def getCSVMObjValDual( alpha, w,C ):\n",
    "    # Recall that b is supposed to be treated as the last coordinate of w\n",
    "#     return np.sum(alpha)- np.square(np.linalg.norm(alpha))/(4*C) - 0.5 * np.square( np.linalg.norm( w ) )\n",
    "    return np.sum(alpha) - alpha.dot(alpha)/(4*C) - 0.5 * np.square( np.linalg.norm( w ) )\n",
    "################################\n",
    "# Non Editable Region Starting #\n",
    "################################\n",
    "def solver( X, y, C, timeout, spacing ):\n",
    "\t(n, d) = X.shape\n",
    "\tt = 0\n",
    "\ttotTime = 0\n",
    "\t\n",
    "\t# w is the normal vector and b is the bias\n",
    "\t# These are the variables that will get returned once timeout happens\n",
    "\tw = np.zeros( (d,) )\n",
    "\tb = 0\n",
    "\ttic = tm.perf_counter()\n",
    "################################\n",
    "#  Non Editable Region Ending  #\n",
    "################################\n",
    "\tX_tr = np.hstack((np.ones((n,1)),X))\n",
    "\n",
    "\talpha = np.ones((n,))\n",
    "\talphay = np.multiply( alpha, y )\n",
    "\tw = X_tr.T.dot( alphay )\n",
    "\tnormSq = np.square( np.linalg.norm( X_tr, axis = 1 ) ) + 1\n",
    "\tc_term = 1/(2*C)\n",
    "\ti = -1\n",
    "\tb= w[0]\n",
    "\tw = w[1:]\n",
    "\ttimeSeries = np.array( [] )\n",
    "\t_totTime = 0\n",
    "\tprimalObjValSeries = np.array([])\n",
    "################################\n",
    "# Non Editable Region Starting #\n",
    "################################\n",
    "\twhile True:\n",
    "\t\tt = t + 1\n",
    "\t\tif t % spacing == 0:\n",
    "\t\t\ttoc = tm.perf_counter()\n",
    "\t\t\ttotTime = totTime + (toc - tic)\n",
    "\t\t\tif totTime > timeout:\n",
    "\t\t\t\treturn (w, b, totTime,timeSeries,primalObjValSeries)\n",
    "\t\t\telse:\n",
    "\t\t\t\ttic = tm.perf_counter()\n",
    "################################\n",
    "#  Non Editable Region Ending  #\n",
    "################################\n",
    "\n",
    "\t\t# Write all code to perform your method updates here within the infinite while loop\n",
    "\t\t# The infinite loop will terminate once timeout is reached\n",
    "\t\t# Do not try to bypass the timer check e.g. by using continue\n",
    "\t\t# It is very easy for us to detect such bypasses - severe penalties await\n",
    "\t\t\n",
    "\t\t# Please note that once timeout is reached, the code will simply return w, b\n",
    "\t\t# Thus, if you wish to return the average model (as we did for GD), you need to\n",
    "\t\t# make sure that w, b store the averages at all times\n",
    "\t\t# One way to do so is to define two new \"running\" variables w_run and b_run\n",
    "\t\t# Make all GD updates to w_run and b_run e.g. w_run = w_run - step * delw\n",
    "\t\t# Then use a running average formula to update w and b\n",
    "\t\t# w = (w * (t-1) + w_run)/t\n",
    "\t\t# b = (b * (t-1) + b_run)/t\n",
    "\t\t# This way, w and b will always store the average and can be returned at any time\n",
    "\t\t# w, b play the role of the \"cumulative\" variable in the lecture notebook\n",
    "\t\t# w_run, b_run play the role of the \"theta\" variable in the lecture notebook\n",
    "\t\t# if(t>n): return (w, b, totTime,timeSeries,primalObjValSeries)\n",
    "\t\t# print(t)s\n",
    "\t\t_tic = tm.perf_counter()\n",
    "\n",
    "\t\tw = np.append(b,w)\n",
    "\t\ti = getCyclicCoord( i,n )\n",
    "\t\tx = X_tr[i,:]\n",
    "\t\tnewAlphai =  alpha[i]*normSq[i]/(normSq[i]+c_term) + (1 - y[i] * (x.dot(w))) / (normSq[i]+c_term)\n",
    "\t\t# print(newAlphai)\n",
    "\t\t\t# if newAlphai < C:\n",
    "\t\t\t# \tnewAlphai = C\n",
    "\t\tif newAlphai < 0:\n",
    "\t\t\tnewAlphai = 0\n",
    "        \n",
    "\t\tw = w + (newAlphai - alpha[i]) * y[i] * x\n",
    "\n",
    "\t\talpha[i] = newAlphai\n",
    "\t\t_toc = tm.perf_counter()\n",
    "\n",
    "\t\t_totTime = _totTime + (_toc - _tic)\n",
    "\t\tprimalObjValSeries = np.append(primalObjValSeries ,getCSVMObjVal(X_tr,y, w ,C ))\n",
    "\t\ttimeSeries = np.append(timeSeries,_totTime)\n",
    "\n",
    "\t\t# print(t)\n",
    "\t\tb= w[0]\n",
    "\t\tw = w[1:]\n",
    "\t\t\t\n",
    "\treturn (w, b, totTime,timeSeries,primalObjValSeries) # This return statement willd+j never be reached"
   ]
  },
  {
   "cell_type": "code",
   "execution_count": 153,
   "metadata": {},
   "outputs": [],
   "source": [
    "C=0.1\n",
    "timeout=10\n",
    "spacing = 100\n",
    "(w, b, totTime,timeSeries,primalObjValSeries) = solver( features, labels, C, timeout, spacing )"
   ]
  },
  {
   "cell_type": "code",
   "execution_count": 154,
   "metadata": {},
   "outputs": [
    {
     "data": {
      "image/png": "[encoded data removed]",
      "text/plain": [
       "<Figure size 504x504 with 1 Axes>"
      ]
     },
     "metadata": {
      "needs_background": "light"
     },
     "output_type": "display_data"
    }
   ],
   "source": [
    "plt.figure( figsize=(7,7))\n",
    "plt.plot( timeSeries, primalObjValSeries, color = 'b', linestyle = '-', label = \"SDCM Primal\" )\n",
    "# plt.plot( time_SDCM, dual_SDCM, color = 'b', linestyle = ':', label = \"SDCM Dual\" )\n",
    "# plt.plot( time_SGD, obj_SGD, color = 'r', linestyle = '-', label = \"SGD\" )\n",
    "plt.legend()\n",
    "plt.xlabel( \"Elapsed time (sec)\" )\n",
    "plt.ylabel( \"C-SVM Objective value\" )\n",
    "plt.ylim( 0, 10000000000 )\n",
    "plt.show()"
   ]
  },
  {
   "cell_type": "code",
   "execution_count": 144,
   "metadata": {},
   "outputs": [
    {
     "data": {
      "text/plain": [
       "6557.209478267015"
      ]
     },
     "execution_count": 144,
     "metadata": {},
     "output_type": "execute_result"
    }
   ],
   "source": [
    "primalObjValSeries[-1]"
   ]
  },
  {
   "cell_type": "code",
   "execution_count": 3,
   "metadata": {},
   "outputs": [],
   "source": [
    "def sq_hinge_func(X,Y,W):\n",
    "    return (np.maximum(1-np.multiply(X.dot(W),Y),0))**2"
   ]
  },
  {
   "cell_type": "code",
   "execution_count": 6,
   "metadata": {
    "scrolled": true
   },
   "outputs": [
    {
     "data": {
      "text/plain": [
       "array([  0.  , 129.96,   0.  ,   0.  , 681.21])"
      ]
     },
     "execution_count": 6,
     "metadata": {},
     "output_type": "execute_result"
    }
   ],
   "source": [
    "sq_hinge_func(X,Y,W)"
   ]
  },
  {
   "cell_type": "code",
   "execution_count": 22,
   "metadata": {},
   "outputs": [],
   "source": [
    "X=np.array([[1,2,3,4],[3,4,5,6],[5,6,7,8],[7,8,9,9],[10,11,12,13]])\n",
    "Y=np.array([1,-1,1,1,-1])\n",
    "W=np.array([0.5,0.1,0.5,1])\n",
    "\n",
    "# np.multiply(Y,Z)"
   ]
  },
  {
   "cell_type": "code",
   "execution_count": 23,
   "metadata": {},
   "outputs": [],
   "source": [
    "def loss_func(X,Y,W,C=1):\n",
    "#     print(W.shape,)\n",
    "    loss = 0.5*W.dot(W)+ C*sum(sq_hinge_func(X,Y,W))\n",
    "    return loss"
   ]
  },
  {
   "cell_type": "code",
   "execution_count": 24,
   "metadata": {},
   "outputs": [],
   "source": [
    "def getStepLength( eta, t ):\n",
    "    return eta/np.sqrt(t+1)"
   ]
  },
  {
   "cell_type": "code",
   "execution_count": 25,
   "metadata": {},
   "outputs": [],
   "source": [
    "def sq_hinge_gradient(X,Y,W,pred):\n",
    "    n = Y.shape[0]\n",
    "    gradients = np.zeros((n,))\n",
    "    margin = np.multiply(pred,Y)\n",
    "    gradients[margin < 1] = -2*(1-margin[margin<1])\n",
    "    \n",
    "    return gradients"
   ]
  },
  {
   "cell_type": "code",
   "execution_count": 26,
   "metadata": {},
   "outputs": [],
   "source": [
    "def SCD(X,Y,coord,pred,n,_iter,W,C=1,eta=0.01):\n",
    "    \n",
    "    sq_hinge_gr = sq_hinge_gradient(X,Y,W,pred)  \n",
    "#     batch_size = X.shape[0]\n",
    "#     print(coord)\n",
    "    gradient = W[coord] + C*(X.T)[coord].dot(np.multiply(Y,sq_hinge_gr))\n",
    "\n",
    "    pred -= W[coord]*X[:,coord]\n",
    "    W[coord] = W[coord]- getStepLength(eta,_iter)*gradient\n",
    "    pred += W[coord]*X[:,coord]\n",
    "    return W,pred"
   ]
  },
  {
   "cell_type": "code",
   "execution_count": 97,
   "metadata": {},
   "outputs": [],
   "source": []
  },
  {
   "cell_type": "code",
   "execution_count": 140,
   "metadata": {},
   "outputs": [],
   "source": [
    "data = np.loadtxt('../data')\n",
    "labels = data[:,0]\n",
    "features = data[:,1:]"
   ]
  },
  {
   "cell_type": "code",
   "execution_count": 6,
   "metadata": {},
   "outputs": [],
   "source": [
    "num_training = data.shape[0]"
   ]
  },
  {
   "cell_type": "code",
   "execution_count": 7,
   "metadata": {},
   "outputs": [],
   "source": [
    "features = np.hstack((np.ones((num_training,1)),features))"
   ]
  },
  {
   "cell_type": "code",
   "execution_count": 36,
   "metadata": {},
   "outputs": [],
   "source": [
    "\n",
    "def getCyclicCoord( currentCoord,n ):\n",
    "    if currentCoord >= n-1 or currentCoord < 0:\n",
    "        return 0\n",
    "    else:\n",
    "        return currentCoord + 1\n",
    "    \n",
    "def getRandCoord( currentCoord,n ):\n",
    "    return random.randint( 0, n-1 )"
   ]
  },
  {
   "cell_type": "code",
   "execution_count": 37,
   "metadata": {},
   "outputs": [],
   "source": [
    "def getCSVMObjVal( X,y,w,C):\n",
    "    hingeLoss = np.maximum( 1 - np.multiply( (X.dot( w )), y ), 0 )\n",
    "    return 0.5 * w.dot( w ) + C * hingeLoss.dot(hingeLoss)\n",
    "\n",
    "def getCSVMObjValDual( alpha, w,C ):\n",
    "    # Recall that b is supposed to be treated as the last coordinate of w\n",
    "#     return np.sum(alpha)- np.square(np.linalg.norm(alpha))/(4*C) - 0.5 * np.square( np.linalg.norm( w ) )\n",
    "    return np.sum(alpha) - alpha.dot(alpha)/(4*C) - 0.5 * np.square( np.linalg.norm( w ) )"
   ]
  },
  {
   "cell_type": "code",
   "execution_count": 179,
   "metadata": {},
   "outputs": [],
   "source": [
    "def training(X,y,_alpha,C=1,n_iter=10):\n",
    "    \n",
    "    n = X.shape[0]\n",
    "    m = X.shape[1]\n",
    "    X = np.hstack((np.ones((n,1)),X))\n",
    "    primalObjValSeries = np.zeros( (n_iter,) )\n",
    "    dualObjValSeries = np.zeros( (n_iter,) )\n",
    "    timeSeries = np.zeros( (n_iter,) )\n",
    "    totTime = 0\n",
    "    i = -1\n",
    "    alpha= _alpha\n",
    "    alpha = np.ones((n,))\n",
    "    alphay = np.multiply( alpha, y )\n",
    "    w = X.T.dot( alphay )\n",
    "    # Initialize model as well as some bookkeeping variables\n",
    "    normSq = np.square( np.linalg.norm( X, axis = 1 ) ) + 1\n",
    "#     c_term = 1/(2*C)\n",
    "    c_term=0\n",
    "    \n",
    "    for t in range( n_iter ):\n",
    "        tic = tm.perf_counter()\n",
    "        \n",
    "        i = getCyclicCoord( i,n )\n",
    "        x = X[i,:]\n",
    "        \n",
    "        # Find the unconstrained new optimal value of alpha_i\n",
    "        newAlphai =  alpha[i]*normSq[i]/(normSq[i]+c_term) + (1 - y[i] * (x.dot(w))) / (normSq[i]+c_term)\n",
    "        # Make sure that the constraints are satisfied\n",
    "#         if newAlphai > C:\n",
    "#             newAlphai = C\n",
    "        if newAlphai < 0:\n",
    "            newAlphai = 0\n",
    "        \n",
    "        # Update the model vector and bias values\n",
    "        # Takes only O(d) time to do so :)\n",
    "        \n",
    "        w = w + (newAlphai - alpha[i]) * y[i] * x\n",
    "#         b = b + (newAlphai - alpha[i]) * y[i]\n",
    "        \n",
    "        alpha[i] = newAlphai\n",
    "\n",
    "        toc = tm.perf_counter()\n",
    "        totTime = totTime + (toc - tic)\n",
    "        \n",
    "        primalObjValSeries[t] = getCSVMObjVal(X,y, w ,C )\n",
    "        dualObjValSeries[t] = getCSVMObjValDual( alpha, w,C )\n",
    "        timeSeries[t] = totTime\n",
    "        sys.stdout.write('\\r'+str(t))\n",
    "        \n",
    "    print( \"nSV = \", np.sum( alpha > C/100 ), \" out of \", y.size, \"data points\" )    \n",
    "    return (w, primalObjValSeries, dualObjValSeries, timeSeries)"
   ]
  },
  {
   "cell_type": "code",
   "execution_count": 27,
   "metadata": {},
   "outputs": [
    {
     "data": {
      "text/plain": [
       "array([0, 1, 1, 1])"
      ]
     },
     "execution_count": 27,
     "metadata": {},
     "output_type": "execute_result"
    }
   ],
   "source": [
    "b=0\n",
    "w=np.array([1,1,1])\n",
    "np.append(b,w)"
   ]
  },
  {
   "cell_type": "code",
   "execution_count": null,
   "metadata": {},
   "outputs": [],
   "source": []
  },
  {
   "cell_type": "code",
   "execution_count": 32,
   "metadata": {},
   "outputs": [],
   "source": [
    "def predict(w,X):\n",
    "    n = X.shape[0]\n",
    "#     X = np.hstack((np.ones((n,1)),features))\n",
    "    pred = np.ones(n)\n",
    "    pred[X.dot(w) < 0] = -1 \n",
    "    return pred"
   ]
  },
  {
   "cell_type": "code",
   "execution_count": 33,
   "metadata": {},
   "outputs": [],
   "source": [
    "def KFold(n,split,shuffle=True):\n",
    "    indices = [i for i in range(n)]\n",
    "    random.shuffle(indices)\n",
    "    split_index = [0,]\n",
    "    for k in range(split-1):\n",
    "        split_index.append(int(n*(k+1)/split))\n",
    "    split_index.append(n)\n",
    "#     print(split_index)\n",
    "    folds=[]\n",
    "    for tst in range(1,split+1):\n",
    "        training_folds,test_folds=[],[]\n",
    "        test_folds= indices[split_index[tst-1]:split_index[tst]]\n",
    "        for tr in range(1,split+1):\n",
    "            if(tr != tst):\n",
    "                training_folds.extend(indices[split_index[tr-1]:split_index[tr]])\n",
    "        folds.append([training_folds,test_folds])\n",
    "        \n",
    "    return folds"
   ]
  },
  {
   "cell_type": "code",
   "execution_count": 34,
   "metadata": {
    "scrolled": true
   },
   "outputs": [
    {
     "data": {
      "text/plain": [
       "[[[3, 9, 7, 5, 2, 8, 4, 1], [0, 6]],\n",
       " [[0, 6, 7, 5, 2, 8, 4, 1], [3, 9]],\n",
       " [[0, 6, 3, 9, 2, 8, 4, 1], [7, 5]],\n",
       " [[0, 6, 3, 9, 7, 5, 4, 1], [2, 8]],\n",
       " [[0, 6, 3, 9, 7, 5, 2, 8], [4, 1]]]"
      ]
     },
     "execution_count": 34,
     "metadata": {},
     "output_type": "execute_result"
    }
   ],
   "source": [
    "KFold(10,5)"
   ]
  },
  {
   "cell_type": "code",
   "execution_count": 51,
   "metadata": {},
   "outputs": [],
   "source": [
    "def cross_val(X,Y,C=1,eta=0.1,n_iter=10,split=1):\n",
    "    print(\"CV for C=\",C,\"eta=\",eta)\n",
    "    split = split\n",
    "    num_data = X.shape[0]\n",
    "    m= X.shape[1]\n",
    "    cv = KFold(num_data,split,shuffle=True)\n",
    "    loss=np.zeros(n_iter*X.shape[1])\n",
    "    i,mean = 0,0\n",
    "    for tr_index, tst_index in cv:\n",
    "        X_tr,Y_tr = X[tr_index],Y[tr_index]\n",
    "        X_tst,Y_tst = X[tst_index],Y[tst_index]\n",
    "        w = np.ones(X.shape[1])\n",
    "        tic = tm.perf_counter()\n",
    "        w,_loss = training(X_tr,Y_tr,w,C,eta,n_iter)\n",
    "        toc = tm.perf_counter()\n",
    "        loss += loss_func(X_tst,Y_tst,w)\n",
    "        pred = predict(w,X_tst)\n",
    "        mean += sum(pred == Y_tst)/(X_tst.shape[0])\n",
    "        i+=1\n",
    "        print('split: ',i,sum(pred == Y_tst)/(X_tst.shape[0]))\n",
    "        \n",
    "    plt.plot(range(n_iter*m),loss/split,label=\"C=\"+str(C))  \n",
    "    print(loss[-1],toc-tic)\n",
    "    print('Mean Accuracy: ',np.round(mean/split,3),\"\\n\")\n",
    "      "
   ]
  },
  {
   "cell_type": "code",
   "execution_count": 180,
   "metadata": {},
   "outputs": [
    {
     "name": "stdout",
     "output_type": "stream",
     "text": [
      "19999nSV =  13373  out of  20000 data points\n"
     ]
    }
   ],
   "source": [
    "_alpha = np.ones((features.shape[0],))\n",
    "C=1\n",
    "n_iter=20000\n",
    "(w, primal_SDCM, dual_SDCM, time_SDCM) = training(features,labels,_alpha,C,n_iter)"
   ]
  },
  {
   "cell_type": "code",
   "execution_count": 181,
   "metadata": {},
   "outputs": [
    {
     "data": {
      "text/plain": [
       "array([7.22702147e+11, 7.22615684e+11, 7.22526770e+11, ...,\n",
       "       6.67360560e+03, 6.66768635e+03, 6.47775328e+03])"
      ]
     },
     "execution_count": 181,
     "metadata": {},
     "output_type": "execute_result"
    }
   ],
   "source": [
    "primal_SDCM"
   ]
  },
  {
   "cell_type": "code",
   "execution_count": 182,
   "metadata": {},
   "outputs": [
    {
     "data": {
      "image/png": "[encoded data removed]",
      "text/plain": [
       "<Figure size 504x504 with 1 Axes>"
      ]
     },
     "metadata": {
      "needs_background": "light"
     },
     "output_type": "display_data"
    }
   ],
   "source": [
    "plt.figure( figsize=(7,7))\n",
    "plt.plot( time_SDCM, primal_SDCM, color = 'b', linestyle = '-', label = \"SDCM Primal\" )\n",
    "plt.plot( time_cd, primal_cd, color = 'g', linestyle = ':', label = \"CD Primal\" )\n",
    "plt.plot( time_mbsgd, primal_mbsgd, color = 'r', linestyle = '-', label = \"MBSGD Primal\" )\n",
    "plt.legend()\n",
    "plt.xlabel( \"Elapsed time (sec)\" )\n",
    "plt.ylabel( \"C-SVM Objective value\" )\n",
    "plt.ylim( 0, 30000 )\n",
    "# pl.xlim(0,3)\n",
    "plt.show()"
   ]
  },
  {
   "cell_type": "code",
   "execution_count": 91,
   "metadata": {},
   "outputs": [
    {
     "data": {
      "text/plain": [
       "array([-1.54588477e+08, -1.54566522e+08, -1.54545938e+08, ...,\n",
       "       -1.40510905e+07, -1.40510905e+07, -1.40510905e+07])"
      ]
     },
     "execution_count": 91,
     "metadata": {},
     "output_type": "execute_result"
    }
   ],
   "source": [
    "dual_SDCM"
   ]
  },
  {
   "cell_type": "code",
   "execution_count": 101,
   "metadata": {},
   "outputs": [
    {
     "data": {
      "text/plain": [
       "array([7.22698963e+11, 7.22597674e+11, 7.22503853e+11, ...,\n",
       "       1.02420710e+04, 1.00996777e+04, 9.71070530e+03])"
      ]
     },
     "execution_count": 101,
     "metadata": {},
     "output_type": "execute_result"
    }
   ],
   "source": [
    "primal_SDCM"
   ]
  },
  {
   "cell_type": "code",
   "execution_count": 141,
   "metadata": {
    "scrolled": false
   },
   "outputs": [
    {
     "data": {
      "text/plain": [
       "9710.705301236341"
      ]
     },
     "execution_count": 141,
     "metadata": {},
     "output_type": "execute_result"
    }
   ],
   "source": [
    "primal_SDCM[-1]"
   ]
  },
  {
   "cell_type": "code",
   "execution_count": 122,
   "metadata": {},
   "outputs": [],
   "source": [
    "data = np.loadtxt('../data')\n",
    "labels = data[:,0]\n",
    "features = data[:,1:]"
   ]
  },
  {
   "cell_type": "code",
   "execution_count": 106,
   "metadata": {},
   "outputs": [],
   "source": [
    "import sklearn\n",
    "from sklearn.svm import LinearSVC\n",
    "\n",
    "lr = LinearSVC(loss='squared_hinge',verbose=1)"
   ]
  },
  {
   "cell_type": "code",
   "execution_count": 107,
   "metadata": {},
   "outputs": [
    {
     "name": "stdout",
     "output_type": "stream",
     "text": [
      "[LibLinear]"
     ]
    },
    {
     "data": {
      "text/plain": [
       "LinearSVC(C=1.0, class_weight=None, dual=True, fit_intercept=True,\n",
       "          intercept_scaling=1, loss='squared_hinge', max_iter=1000,\n",
       "          multi_class='ovr', penalty='l2', random_state=None, tol=0.0001,\n",
       "          verbose=1)"
      ]
     },
     "execution_count": 107,
     "metadata": {},
     "output_type": "execute_result"
    }
   ],
   "source": [
    "lr.fit(features,labels)"
   ]
  },
  {
   "cell_type": "code",
   "execution_count": 109,
   "metadata": {},
   "outputs": [],
   "source": [
    "w = lr.coef_"
   ]
  },
  {
   "cell_type": "code",
   "execution_count": 111,
   "metadata": {},
   "outputs": [],
   "source": [
    "b = lr.intercept_"
   ]
  },
  {
   "cell_type": "code",
   "execution_count": 115,
   "metadata": {},
   "outputs": [
    {
     "data": {
      "text/plain": [
       "(21,)"
      ]
     },
     "execution_count": 115,
     "metadata": {},
     "output_type": "execute_result"
    }
   ],
   "source": [
    "np.append(b,w).shape"
   ]
  },
  {
   "cell_type": "code",
   "execution_count": 117,
   "metadata": {},
   "outputs": [],
   "source": [
    "X_tr =np.hstack((np.ones((features.shape[0],1)),features))"
   ]
  },
  {
   "cell_type": "code",
   "execution_count": 118,
   "metadata": {
    "scrolled": true
   },
   "outputs": [
    {
     "data": {
      "text/plain": [
       "5223.973857921847"
      ]
     },
     "execution_count": 118,
     "metadata": {},
     "output_type": "execute_result"
    }
   ],
   "source": [
    "getCSVMObjVal(X_tr,labels, np.append(b,w) ,1 )"
   ]
  },
  {
   "cell_type": "markdown",
   "metadata": {},
   "source": [
    "# Training"
   ]
  },
  {
   "cell_type": "code",
   "execution_count": 159,
   "metadata": {},
   "outputs": [],
   "source": [
    "data = np.loadtxt('../data')\n",
    "labels = data[:,0]\n",
    "features = data[:,1:]"
   ]
  },
  {
   "cell_type": "code",
   "execution_count": 160,
   "metadata": {},
   "outputs": [],
   "source": [
    "C=1\n",
    "timeout=10\n",
    "spacing = 100\n",
    "(w, b, totTime,time_mbsgd,primal_mbsgd) = solver_mbsgd( features, labels, C, timeout, spacing )"
   ]
  },
  {
   "cell_type": "code",
   "execution_count": 132,
   "metadata": {},
   "outputs": [],
   "source": [
    "C=1\n",
    "timeout=10\n",
    "spacing = 100\n",
    "(w, b, totTime,time_cd,primal_cd) = solver_cd( features, labels, C, timeout, spacing )"
   ]
  },
  {
   "cell_type": "code",
   "execution_count": 133,
   "metadata": {},
   "outputs": [
    {
     "data": {
      "text/plain": [
       "6580.240730581419"
      ]
     },
     "execution_count": 133,
     "metadata": {},
     "output_type": "execute_result"
    }
   ],
   "source": [
    "primal_cd[-1]"
   ]
  },
  {
   "cell_type": "markdown",
   "metadata": {},
   "source": [
    "   MBSGD"
   ]
  },
  {
   "cell_type": "code",
   "execution_count": 157,
   "metadata": {},
   "outputs": [],
   "source": [
    "import numpy as np\n",
    "import random as rnd\n",
    "import time as tm\n",
    "\n",
    "# You may define any new functions, variables, classes here\n",
    "# For example, functions to calculate next coordinate or step length\n",
    "\n",
    "def sq_hinge_func(X,Y,W):\n",
    "    return (np.maximum(1-np.multiply(X.dot(W),Y),0))**2\n",
    "\n",
    "def loss_func(X,Y,W,C=1):\n",
    "#     print(W.shape,)\n",
    "    loss = 0.5*W.dot(W)+ C*sum(sq_hinge_func(X,Y,W))\n",
    "    return loss\n",
    "\n",
    "def getStepLength( eta, t ):\n",
    "    return eta/(t+1)\n",
    "\n",
    "def sq_hinge_gradient(X,Y,W):\n",
    "\tn = Y.shape[0]\t\n",
    "\tpred = X.dot(W)\n",
    "\tgradients = np.zeros((n,))\n",
    "\tmargin = np.multiply(pred,Y)\n",
    "\tgradients[margin < 1] = -2*(1-margin[margin<1])\n",
    "\n",
    "\treturn gradients\n",
    "\n",
    "def mini_batch_SGD(X,Y,n,_iter,W,C=1,eta=0.01):\n",
    "    \n",
    "    sq_hinge_gr = sq_hinge_gradient(X,Y,W)  \n",
    "    batch_size = X.shape[0]\n",
    "    gradient = W + C * (n/batch_size)*(X.T).dot(np.multiply(Y,sq_hinge_gr))\n",
    "    \n",
    "    W = W -getStepLength(eta,_iter)*gradient\n",
    "    return W\n",
    "\n",
    "################################\n",
    "# Non Editable Region Starting #\n",
    "################################\n",
    "def solver_mbsgd( X, y, C, timeout, spacing ):\n",
    "\t(n, d) = X.shape\n",
    "\tt = 0\n",
    "\ttotTime = 0\n",
    "\t\n",
    "\t# w is the normal vector and b is the bias\n",
    "\t# These are the variables that will get returned once timeout happens\n",
    "\tw = np.zeros( (d,) )\n",
    "\tb = 0\n",
    "\ttic = tm.perf_counter()\n",
    "################################\n",
    "#  Non Editable Region Ending  #\n",
    "################################\n",
    "\tw = np.ones( (d,) )\n",
    "\tX_tr = np.hstack((np.ones((n,1)),X))\n",
    "\teta=0.0005\n",
    "\t_iter=10\n",
    "\tbatch_size=512\n",
    "\ttimeSeries = np.array([])\n",
    "\t_totTime = 0\n",
    "\tprimalObjValSeries = np.array([])\n",
    "\n",
    "\t# You may reinitialize w, b to your liking here\n",
    "\t# You may also define new variables here e.g. eta, B etc\n",
    "\n",
    "################################\n",
    "# Non Editable Region Starting #\n",
    "################################\n",
    "\twhile True:\n",
    "\t\tt = t + 1\n",
    "\t\tif t % spacing == 0:\n",
    "\t\t\ttoc = tm.perf_counter()\n",
    "\t\t\ttotTime = totTime + (toc - tic)\n",
    "\t\t\tif totTime > timeout:\n",
    "\t\t\t\treturn (w, b, totTime,timeSeries,primalObjValSeries)\n",
    "\t\t\telse:\n",
    "\t\t\t\ttic = tm.perf_counter()\n",
    "################################\n",
    "#  Non Editable Region Ending  #\n",
    "################################\n",
    "\n",
    "\t\t# Write all code to perform your method updates here within the infinite while loop\n",
    "\t\t# The infinite loop will terminate once timeout is reached\n",
    "\t\t# Do not try to bypass the timer check e.g. by using continue\n",
    "\t\t# It is very easy for us to detect such bypasses - severe penalties await\n",
    "\t\t\n",
    "\t\t# Please note that once timeout is reached, the code will simply return w, b\n",
    "\t\t# Thus, if you wish to return the average model (as we did for GD), you need to\n",
    "\t\t# make sure that w, b store the averages at all times\n",
    "\t\t# One way to do so is to define two new \"running\" variables w_run and b_run\n",
    "\t\t# Make all GD updates to w_run and b_run e.g. w_run = w_run - step * delw\n",
    "\t\t# Then use a running average formula to update w and b\n",
    "\t\t# w = (w * (t-1) + w_run)/t\n",
    "\t\t# b = (b * (t-1) + b_run)/t\n",
    "\t\t# This way, w and b will always store the average and can be returned at any time\n",
    "\t\t# w, b play the role of the \"cumulative\" variable in the lecture notebook\n",
    "\t\t# w_run, b_run play the role of the \"theta\" variable in the lecture notebook\n",
    "\t\t# if(t>_iter): return w,b,totTime\n",
    "\t\t_tic = tm.perf_counter()\n",
    "\n",
    "\t\tw = np.insert(w, 0, b, axis=0)\n",
    "\t\tif (batch_size < n):\n",
    "\t\t\ttr_index = np.random.choice(range(0,n),batch_size)\n",
    "\t\t\tX_train,Y_train = X_tr[tr_index,:],y[tr_index]\n",
    "\t\telse:\n",
    "\t\t\tX_train,Y_train = X_tr,y\n",
    "\t\tw = mini_batch_SGD(X_train,Y_train,n,t,w,C,eta)\n",
    "\t\t_toc = tm.perf_counter()\n",
    "\n",
    "\t\t_totTime = _totTime + (_toc - _tic)\n",
    "\t\tprimalObjValSeries = np.append(primalObjValSeries ,loss_func(X_tr,y, w ,C ))\n",
    "\t\ttimeSeries = np.append(timeSeries,_totTime)\n",
    "\n",
    "\t\tb= w[0]\n",
    "\t\tw = w[1:]\n",
    "\n",
    "\treturn (w, b, totTime,timeSeries,primalObjValSeries) # This return statement willd+j never be reached"
   ]
  },
  {
   "cell_type": "markdown",
   "metadata": {},
   "source": [
    "CD"
   ]
  },
  {
   "cell_type": "code",
   "execution_count": 131,
   "metadata": {},
   "outputs": [],
   "source": [
    "import numpy as np\n",
    "import random as rnd\n",
    "import time as tm\n",
    "\n",
    "# You may define any new functions, variables, classes here\n",
    "# For example, functions to calculate next coordinate or step length\n",
    "\n",
    "def getCyclicCoord( currentCoord,n ):\n",
    "    if currentCoord >= n-1 or currentCoord < 0:\n",
    "        return 0\n",
    "    else:\n",
    "        return currentCoord + 1\n",
    "    \n",
    "def getRandCoord( currentCoord,n ):\n",
    "    return rnd.randint( 0, n-1 )\n",
    "\t\n",
    "def sq_hinge_func(X,Y,W):\n",
    "    return (np.maximum(1-np.multiply(X.dot(W),Y),0))**2\n",
    "\n",
    "def loss_func(X,Y,W,C=1):\n",
    "#     print(W.shape,)\n",
    "    loss = 0.5*W.dot(W)+ C*sum(sq_hinge_func(X,Y,W))\n",
    "    return loss\n",
    "\n",
    "def getStepLength( eta, t ):\n",
    "    return eta/np.sqrt(t+1)\n",
    "\n",
    "def sq_hinge_gradient(X,Y,W,pred):\n",
    "    n = Y.shape[0]\n",
    "    gradients = np.zeros((n,))\n",
    "    margin = np.multiply(pred,Y)\n",
    "    gradients[margin < 1] = -2*(1-margin[margin<1])\n",
    "    \n",
    "    return gradients\n",
    "\n",
    "def SCD(X,Y,coord,pred,_iter,W,C=1,eta=0.01):\n",
    "    \n",
    "    sq_hinge_gr = sq_hinge_gradient(X,Y,W,pred)  \n",
    "#     batch_size = X.shape[0]\n",
    "#     print(coord)\n",
    "    gradient = W[coord] + C*(X.T)[coord].dot(np.multiply(Y,sq_hinge_gr))\n",
    "\n",
    "    pred -= W[coord]*X[:,coord]\n",
    "    W[coord] = W[coord]- getStepLength(eta,_iter)*gradient\n",
    "    pred += W[coord]*X[:,coord]\n",
    "    return W,pred\n",
    "################################\n",
    "# Non Editable Region Starting #\n",
    "################################\n",
    "def solver_cd( X, y, C, timeout, spacing ):\n",
    "\t(n, d) = X.shape\n",
    "\tt = 0\n",
    "\ttotTime = 0\n",
    "\t\n",
    "\t# w is the normal vector and b is the bias\n",
    "\t# These are the variables that will get returned once timeout happens\n",
    "\tw = np.zeros( (d,) )\n",
    "\tb = 0\n",
    "\ttic = tm.perf_counter()\n",
    "################################\n",
    "#  Non Editable Region Ending  #\n",
    "################################\n",
    "\tw = np.zeros( (d,) )\n",
    "\tX_tr = np.hstack((np.ones((n,1)),X))\n",
    "\teta=0.0001\n",
    "\t_iter=3000\n",
    "\tprev=-1\n",
    "\ttimeSeries = np.array( [] )\n",
    "\t_totTime = 0\n",
    "\tprimalObjValSeries = np.array([])\n",
    "\t# You may reinitialize w, b to your liking here\n",
    "\t# You may also define new variables here e.g. eta, B etc\n",
    "\n",
    "################################\n",
    "# Non Editable Region Starting #\n",
    "################################\n",
    "\twhile True:\n",
    "\t\tt = t + 1\n",
    "\t\tif t % spacing == 0:\n",
    "\t\t\ttoc = tm.perf_counter()\n",
    "\t\t\ttotTime = totTime + (toc - tic)\n",
    "\t\t\tif totTime > timeout:\n",
    "\t\t\t\treturn (w, b, totTime,timeSeries,primalObjValSeries)\n",
    "\t\t\telse:\n",
    "\t\t\t\ttic = tm.perf_counter()\n",
    "################################\n",
    "#  Non Editable Region Ending  #\n",
    "################################\n",
    "\n",
    "\t\t# Write all code to perform your method updates here within the infinite while loop\n",
    "\t\t# The infinite loop will terminate once timeout is reached\n",
    "\t\t# Do not try to bypass the timer check e.g. by using continue\n",
    "\t\t# It is very easy for us to detect such bypasses - severe penalties await\n",
    "\t\t\n",
    "\t\t# Please note that once timeout is reached, the code will simply return w, b\n",
    "\t\t# Thus, if you wish to return the average model (as we did for GD), you need to\n",
    "\t\t# make sure that w, b store the averages at all times\n",
    "\t\t# One way to do so is to define two new \"running\" variables w_run and b_run\n",
    "\t\t# Make all GD updates to w_run and b_run e.g. w_run = w_run - step * delw\n",
    "\t\t# Then use a running average formula to update w and b\n",
    "\t\t# w = (w * (t-1) + w_run)/t\n",
    "\t\t# b = (b * (t-1) + b_run)/t\n",
    "\t\t# This way, w and b will always store the average and can be returned at any time\n",
    "\t\t# w, b play the role of the \"cumulative\" variable in the lecture notebook\n",
    "\t\t# w_run, b_run play the role of the \"theta\" variable in the lecture notebook\n",
    "\t\t# if(t>_iter): return w,b,totTime\n",
    "\t\t_tic = tm.perf_counter()\n",
    "\n",
    "\t\tw = np.insert(w, 0, b, axis=0)\n",
    "\t\t# w_prev = np.copy(w)\n",
    "\t\tpred = X_tr.dot(w)\n",
    "\t\tj = getCyclicCoord(prev,d)\n",
    "\t\tprev = j\n",
    "\t\tw,pred = SCD(X_tr,y,j,pred,t,w,C,eta)\n",
    "\t\t_toc = tm.perf_counter()\n",
    "\n",
    "\t\t_totTime = _totTime + (_toc - _tic)\n",
    "\t\tprimalObjValSeries = np.append(primalObjValSeries ,loss_func(X_tr,y, w ,C ))\n",
    "\t\ttimeSeries = np.append(timeSeries,_totTime)\n",
    "\n",
    "\t\tb= w[0]\n",
    "\t\tw = w[1:]\n",
    "\t\t\t\n",
    "\treturn (w, b, totTime,timeSeries,primalObjValSeries) # This return statement willd+j never be reached"
   ]
  }
 ],
 "metadata": {
  "kernelspec": {
   "display_name": "Python 3",
   "language": "python",
   "name": "python3"
  },
  "language_info": {
   "codemirror_mode": {
    "name": "ipython",
    "version": 3
   },
   "file_extension": ".py",
   "mimetype": "text/x-python",
   "name": "python",
   "nbconvert_exporter": "python",
   "pygments_lexer": "ipython3",
   "version": "3.7.3"
  }
 },
 "nbformat": 4,
 "nbformat_minor": 2
}
