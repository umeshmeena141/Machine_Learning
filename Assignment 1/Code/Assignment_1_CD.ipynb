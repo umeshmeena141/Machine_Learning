{
 "cells": [
  {
   "cell_type": "code",
   "execution_count": 46,
   "metadata": {},
   "outputs": [],
   "source": [
    "import numpy as np\n",
    "import matplotlib.pyplot as plt\n",
    "import random\n",
    "from sklearn.model_selection import StratifiedKFold\n",
    "import itertools\n",
    "import time as tm"
   ]
  },
  {
   "cell_type": "code",
   "execution_count": 21,
   "metadata": {},
   "outputs": [],
   "source": [
    "def sq_hinge_func(X,Y,W):\n",
    "    return (np.maximum(1-np.multiply(X.dot(W),Y),0))**2"
   ]
  },
  {
   "cell_type": "code",
   "execution_count": 6,
   "metadata": {
    "scrolled": true
   },
   "outputs": [
    {
     "data": {
      "text/plain": [
       "array([  0.  , 129.96,   0.  ,   0.  , 681.21])"
      ]
     },
     "execution_count": 6,
     "metadata": {},
     "output_type": "execute_result"
    }
   ],
   "source": [
    "sq_hinge_func(X,Y,W)"
   ]
  },
  {
   "cell_type": "code",
   "execution_count": 22,
   "metadata": {},
   "outputs": [],
   "source": [
    "X=np.array([[1,2,3,4],[3,4,5,6],[5,6,7,8],[7,8,9,9],[10,11,12,13]])\n",
    "Y=np.array([1,-1,1,1,-1])\n",
    "W=np.array([0.5,0.1,0.5,1])\n",
    "\n",
    "# np.multiply(Y,Z)"
   ]
  },
  {
   "cell_type": "code",
   "execution_count": 23,
   "metadata": {},
   "outputs": [],
   "source": [
    "def loss_func(X,Y,W,C=1):\n",
    "#     print(W.shape,)\n",
    "    loss = 0.5*W.dot(W)+ C*sum(sq_hinge_func(X,Y,W))\n",
    "    return loss"
   ]
  },
  {
   "cell_type": "code",
   "execution_count": 24,
   "metadata": {},
   "outputs": [],
   "source": [
    "def getStepLength( eta, t ):\n",
    "    return eta/np.sqrt(t+1)"
   ]
  },
  {
   "cell_type": "code",
   "execution_count": 25,
   "metadata": {},
   "outputs": [],
   "source": [
    "def sq_hinge_gradient(X,Y,W,pred):\n",
    "    n = Y.shape[0]\n",
    "    gradients = np.zeros((n,))\n",
    "    margin = np.multiply(pred,Y)\n",
    "    gradients[margin < 1] = -2*(1-margin[margin<1])\n",
    "    \n",
    "    return gradients"
   ]
  },
  {
   "cell_type": "code",
   "execution_count": 26,
   "metadata": {},
   "outputs": [],
   "source": [
    "def SCD(X,Y,coord,pred,n,_iter,W,C=1,eta=0.01):\n",
    "    \n",
    "    sq_hinge_gr = sq_hinge_gradient(X,Y,W,pred)  \n",
    "#     batch_size = X.shape[0]\n",
    "#     print(coord)\n",
    "    gradient = W[coord] + C*(X.T)[coord].dot(np.multiply(Y,sq_hinge_gr))\n",
    "\n",
    "    pred -= W[coord]*X[:,coord]\n",
    "    W[coord] = W[coord]- getStepLength(eta,_iter)*gradient\n",
    "    pred += W[coord]*X[:,coord]\n",
    "    return W,pred"
   ]
  },
  {
   "cell_type": "code",
   "execution_count": 27,
   "metadata": {},
   "outputs": [],
   "source": [
    "data = np.loadtxt('../data')"
   ]
  },
  {
   "cell_type": "code",
   "execution_count": 28,
   "metadata": {},
   "outputs": [],
   "source": [
    "labels = data[:,0]\n",
    "features = data[:,1:]"
   ]
  },
  {
   "cell_type": "code",
   "execution_count": 29,
   "metadata": {},
   "outputs": [],
   "source": [
    "num_training = data.shape[0]"
   ]
  },
  {
   "cell_type": "code",
   "execution_count": 30,
   "metadata": {},
   "outputs": [],
   "source": [
    "features = np.hstack((np.ones((num_training,1)),features))"
   ]
  },
  {
   "cell_type": "code",
   "execution_count": 79,
   "metadata": {},
   "outputs": [],
   "source": [
    "randperm = np.random.permutation( 21 )\n",
    "randpermInner = -1\n",
    "def getCyclicCoord( currentCoord,n ):\n",
    "    if currentCoord >= n-1 or currentCoord < 0:\n",
    "        return 0\n",
    "    else:\n",
    "        return currentCoord + 1\n",
    "    \n",
    "def getRandCoord( currentCoord,n ):\n",
    "    return random.randint( 0, n-1 )\n",
    "\n",
    "def getRandpermCoord( currentCoord,n ):\n",
    "    global randperm, randpermInner\n",
    "    if randpermInner >= n-1 or randpermInner < 0 or currentCoord < 0:\n",
    "        randpermInner = 0\n",
    "        randperm = np.random.permutation( n)\n",
    "        return randperm[randpermInner]\n",
    "    else:\n",
    "        randpermInner = randpermInner + 1\n",
    "        return randperm[randpermInner]"
   ]
  },
  {
   "cell_type": "code",
   "execution_count": 83,
   "metadata": {},
   "outputs": [],
   "source": [
    "def training(X,Y,W,C=1,eta=0.01,n_iter=10):\n",
    "    \n",
    "    n = X.shape[0]\n",
    "    m = X.shape[1]\n",
    "#     print(n,m,W.shape)\n",
    "    loss = np.zeros(n_iter*m)\n",
    "    i=0\n",
    "    w_prev = np.copy(W)\n",
    "    w_prev[0] = 100\n",
    "    prev= 0\n",
    "#     print(w_prev,W,np.linalg.norm(w_prev-W))\n",
    "    while i < n_iter and np.linalg.norm(w_prev-W)>10**(-5):\n",
    "#         print(\"Yes\")\n",
    "        w_prev = np.copy(W)\n",
    "        pred = X.dot(W)\n",
    "        j = getCyclicCoord(prev,m)\n",
    "        prev = j\n",
    "        W,pred = SCD(X,Y,j,pred,n,i,W,C,eta)\n",
    "#         print()\n",
    "        loss[m*i+j] = loss_func(X,Y,W,C)\n",
    "        \n",
    "        i+=1;\n",
    "#     if(i>=n_iter) :print(n_iter,\"iterations completed\")\n",
    "    return W,loss\n",
    "    "
   ]
  },
  {
   "cell_type": "code",
   "execution_count": 32,
   "metadata": {},
   "outputs": [],
   "source": [
    "def predict(w,X):\n",
    "    n = X.shape[0]\n",
    "#     X = np.hstack((np.ones((n,1)),features))\n",
    "    pred = np.ones(n)\n",
    "    pred[X.dot(w) < 0] = -1 \n",
    "    return pred"
   ]
  },
  {
   "cell_type": "code",
   "execution_count": 33,
   "metadata": {},
   "outputs": [],
   "source": [
    "def KFold(n,split,shuffle=True):\n",
    "    indices = [i for i in range(n)]\n",
    "    random.shuffle(indices)\n",
    "    split_index = [0,]\n",
    "    for k in range(split-1):\n",
    "        split_index.append(int(n*(k+1)/split))\n",
    "    split_index.append(n)\n",
    "#     print(split_index)\n",
    "    folds=[]\n",
    "    for tst in range(1,split+1):\n",
    "        training_folds,test_folds=[],[]\n",
    "        test_folds= indices[split_index[tst-1]:split_index[tst]]\n",
    "        for tr in range(1,split+1):\n",
    "            if(tr != tst):\n",
    "                training_folds.extend(indices[split_index[tr-1]:split_index[tr]])\n",
    "        folds.append([training_folds,test_folds])\n",
    "        \n",
    "    return folds"
   ]
  },
  {
   "cell_type": "code",
   "execution_count": 34,
   "metadata": {
    "scrolled": true
   },
   "outputs": [
    {
     "data": {
      "text/plain": [
       "[[[3, 9, 7, 5, 2, 8, 4, 1], [0, 6]],\n",
       " [[0, 6, 7, 5, 2, 8, 4, 1], [3, 9]],\n",
       " [[0, 6, 3, 9, 2, 8, 4, 1], [7, 5]],\n",
       " [[0, 6, 3, 9, 7, 5, 4, 1], [2, 8]],\n",
       " [[0, 6, 3, 9, 7, 5, 2, 8], [4, 1]]]"
      ]
     },
     "execution_count": 34,
     "metadata": {},
     "output_type": "execute_result"
    }
   ],
   "source": [
    "KFold(10,5)"
   ]
  },
  {
   "cell_type": "code",
   "execution_count": 55,
   "metadata": {},
   "outputs": [],
   "source": []
  },
  {
   "cell_type": "code",
   "execution_count": 51,
   "metadata": {},
   "outputs": [],
   "source": [
    "def cross_val(X,Y,C=1,eta=0.1,n_iter=10,split=1):\n",
    "    print(\"CV for C=\",C,\"eta=\",eta)\n",
    "    split = split\n",
    "    num_data = X.shape[0]\n",
    "    m= X.shape[1]\n",
    "    cv = KFold(num_data,split,shuffle=True)\n",
    "    loss=np.zeros(n_iter*X.shape[1])\n",
    "    i,mean = 0,0\n",
    "    for tr_index, tst_index in cv:\n",
    "        X_tr,Y_tr = X[tr_index],Y[tr_index]\n",
    "        X_tst,Y_tst = X[tst_index],Y[tst_index]\n",
    "        w = np.ones(X.shape[1])\n",
    "        tic = tm.perf_counter()\n",
    "        w,_loss = training(X_tr,Y_tr,w,C,eta,n_iter)\n",
    "        toc = tm.perf_counter()\n",
    "        loss += loss_func(X_tst,Y_tst,w)\n",
    "        pred = predict(w,X_tst)\n",
    "        mean += sum(pred == Y_tst)/(X_tst.shape[0])\n",
    "        i+=1\n",
    "        print('split: ',i,sum(pred == Y_tst)/(X_tst.shape[0]))\n",
    "        \n",
    "    plt.plot(range(n_iter*m),loss/split,label=\"C=\"+str(C))  \n",
    "    print(loss[-1],toc-tic)\n",
    "    print('Mean Accuracy: ',np.round(mean/split,3),\"\\n\")\n",
    "      "
   ]
  },
  {
   "cell_type": "code",
   "execution_count": 18,
   "metadata": {
    "scrolled": true
   },
   "outputs": [
    {
     "name": "stdout",
     "output_type": "stream",
     "text": [
      "100 iterations completed\n",
      "Accuracy:  0.902 \n",
      "\n"
     ]
    },
    {
     "data": {
      "image/png": "[encoded data removed]",
      "text/plain": [
       "<Figure size 432x288 with 1 Axes>"
      ]
     },
     "metadata": {
      "needs_background": "light"
     },
     "output_type": "display_data"
    }
   ],
   "source": [
    "# C=[0.001,0.01,0.02]\n",
    "# eta = [0.01,0.1,]\n",
    "# batch_size = [32,128,512]\n",
    "C = 1\n",
    "eta=0.0001\n",
    "batch_size =128\n",
    "n_iter = 100\n",
    "X,Y = features,labels\n",
    "m = X.shape[1]\n",
    "# legends= []\n",
    "# cross_val(features,labels,C,eta,n_iter,2)\n",
    "w = np.ones(X.shape[1])\n",
    "w,loss = training(X,Y,w,C,eta,n_iter)\n",
    "# loss += _loss\n",
    "pred = predict(w,X)\n",
    "score= sum(pred == Y)/(X.shape[0])\n",
    "# print(\"score\",score)\n",
    "plt.plot(range(n_iter*m),loss,label=\"C=\"+str(C))  \n",
    "print('Accuracy: ',np.round(score,3),\"\\n\")"
   ]
  },
  {
   "cell_type": "code",
   "execution_count": 80,
   "metadata": {
    "scrolled": true
   },
   "outputs": [
    {
     "name": "stdout",
     "output_type": "stream",
     "text": [
      "CV for C= 1 eta= 1e-05\n",
      "split:  1 0.12475\n",
      "split:  2 0.12375\n",
      "split:  3 0.18875\n",
      "split:  4 0.857\n",
      "split:  5 0.1775\n",
      "62652.8570018604 1.4618520889998763\n",
      "Mean Accuracy:  0.294 \n",
      "\n",
      "CV for C= 1 eta= 0.0001\n",
      "split:  1 0.87825\n",
      "split:  2 0.86925\n",
      "split:  3 0.8905\n",
      "split:  4 0.8975\n",
      "split:  5 0.90175\n",
      "16018.323067401554 47.5391512139995\n",
      "Mean Accuracy:  0.887 \n",
      "\n",
      "CV for C= 1 eta= 0.0005\n",
      "split:  1 0.88075\n",
      "split:  2 0.89975\n",
      "split:  3 0.87875\n",
      "split:  4 0.9015\n",
      "split:  5 0.81825\n",
      "19085.285166450056 2.782530600999962\n",
      "Mean Accuracy:  0.876 \n",
      "\n",
      "CV for C= 1 eta= 0.001\n",
      "split:  1 0.8425\n",
      "split:  2 0.901\n",
      "split:  3 0.8725\n",
      "split:  4 0.89575\n",
      "split:  5 0.88075\n",
      "17718.03249673888 3.212559102999876\n",
      "Mean Accuracy:  0.879 \n",
      "\n"
     ]
    },
    {
     "data": {
      "image/png": "[encoded data removed]",
      "text/plain": [
       "<Figure size 432x288 with 1 Axes>"
      ]
     },
     "metadata": {
      "needs_background": "light"
     },
     "output_type": "display_data"
    }
   ],
   "source": [
    "# C=[0.001,0.01,0.02]\n",
    "eta = [0.00001,0.0001,0.0005,0.001]\n",
    "# batch_size = [32,128,512,1024,2048]\n",
    "param = list(itertools.product(eta,batch_size))\n",
    "C = 1\n",
    "# eta=0.0001\n",
    "# batch_size =512\n",
    "n_iter = 30000\n",
    "legends= []\n",
    "for i in eta:\n",
    "    cross_val(features,labels,C,i,n_iter,5)\n",
    "# w = np.ones(features.shape[1])\n",
    "# w,loss = training(features,labels,w,C,eta,batch_size,n_iter)\n",
    "# pred = predict(w,features)\n",
    "# plt.plot(range(n_iter),loss,label=\"C=\"+str(C))  \n",
    "# print('Mean Accuracy: ',np.round(sum(pred == labels)/(features.shape[0]),3),\"\\n\")"
   ]
  },
  {
   "cell_type": "code",
   "execution_count": 82,
   "metadata": {
    "scrolled": true
   },
   "outputs": [
    {
     "name": "stdout",
     "output_type": "stream",
     "text": [
      "CV for C= 1 eta= 1e-05\n",
      "split:  1 0.131\n",
      "split:  2 0.1095\n",
      "split:  3 0.103\n",
      "split:  4 0.139\n",
      "split:  5 0.1005\n",
      "108416.52607000024 0.5869818929995745\n",
      "Mean Accuracy:  0.117 \n",
      "\n",
      "CV for C= 1 eta= 0.0001\n",
      "split:  1 0.8875\n",
      "split:  2 0.88525\n",
      "split:  3 0.50525\n",
      "split:  4 0.888\n",
      "split:  5 0.89975\n",
      "15497.191687244012 3.211912315000518\n",
      "Mean Accuracy:  0.813 \n",
      "\n",
      "CV for C= 1 eta= 0.0005\n",
      "split:  1 0.90075\n",
      "split:  2 0.89775\n",
      "split:  3 0.8805\n",
      "split:  4 0.89375\n",
      "split:  5 0.907\n",
      "9309.558779549272 5.574438912000005\n",
      "Mean Accuracy:  0.896 \n",
      "\n",
      "CV for C= 1 eta= 0.001\n",
      "split:  1 0.8455\n",
      "split:  2 0.90625\n",
      "split:  3 0.8555\n",
      "split:  4 0.88875\n",
      "split:  5 0.8925\n",
      "14291.681919504495 11.184605289000501\n",
      "Mean Accuracy:  0.878 \n",
      "\n"
     ]
    },
    {
     "data": {
      "image/png": "[encoded data removed]",
      "text/plain": [
       "<Figure size 432x288 with 1 Axes>"
      ]
     },
     "metadata": {
      "needs_background": "light"
     },
     "output_type": "display_data"
    }
   ],
   "source": [
    "# C=[0.001,0.01,0.02]\n",
    "eta = [0.00001,0.0001,0.0005,0.001]\n",
    "# batch_size = [32,128,512,1024,2048]\n",
    "param = list(itertools.product(eta,batch_size))\n",
    "C = 1\n",
    "# eta=0.0001\n",
    "# batch_size =512\n",
    "n_iter = 30000\n",
    "legends= []\n",
    "for i in eta:\n",
    "    cross_val(features,labels,C,i,n_iter,5)\n",
    "# w = np.ones(features.shape[1])\n",
    "# w,loss = training(features,labels,w,C,eta,batch_size,n_iter)\n",
    "# pred = predict(w,features)\n",
    "# plt.plot(range(n_iter),loss,label=\"C=\"+str(C))  \n",
    "# print('Mean Accuracy: ',np.round(sum(pred == labels)/(features.shape[0]),3),\"\\n\")"
   ]
  },
  {
   "cell_type": "code",
   "execution_count": 84,
   "metadata": {
    "scrolled": true
   },
   "outputs": [
    {
     "name": "stdout",
     "output_type": "stream",
     "text": [
      "CV for C= 1 eta= 1e-05\n",
      "split:  1 0.14925\n",
      "split:  2 0.8645\n",
      "split:  3 0.105\n",
      "split:  4 0.1205\n",
      "split:  5 0.11925\n",
      "86113.26542382347 0.6227525650001553\n",
      "Mean Accuracy:  0.272 \n",
      "\n",
      "CV for C= 1 eta= 0.0001\n",
      "split:  1 0.90225\n",
      "split:  2 0.905\n",
      "split:  3 0.89525\n",
      "split:  4 0.879\n",
      "split:  5 0.90175\n",
      "9902.723232169483 13.833154038999965\n",
      "Mean Accuracy:  0.897 \n",
      "\n",
      "CV for C= 1 eta= 0.0005\n",
      "split:  1 0.8925\n",
      "split:  2 0.86825\n",
      "split:  3 0.8715\n",
      "split:  4 0.8175\n",
      "split:  5 0.8535\n",
      "22502.302256277482 1.9696736839996447\n",
      "Mean Accuracy:  0.861 \n",
      "\n",
      "CV for C= 1 eta= 0.001\n",
      "split:  1 0.83475\n",
      "split:  2 0.82875\n",
      "split:  3 0.759\n",
      "split:  4 0.81875\n",
      "split:  5 0.7505\n",
      "45861.18706290419 0.8793586270003289\n",
      "Mean Accuracy:  0.798 \n",
      "\n"
     ]
    },
    {
     "data": {
      "image/png": "[encoded data removed]",
      "text/plain": [
       "<Figure size 432x288 with 1 Axes>"
      ]
     },
     "metadata": {
      "needs_background": "light"
     },
     "output_type": "display_data"
    }
   ],
   "source": [
    "# C=[0.001,0.01,0.02]\n",
    "eta = [0.00001,0.0001,0.0005,0.001]\n",
    "# batch_size = [32,128,512,1024,2048]\n",
    "param = list(itertools.product(eta,batch_size))\n",
    "C = 1\n",
    "# eta=0.0001\n",
    "# batch_size =512\n",
    "n_iter = 30000\n",
    "legends= []\n",
    "for i in eta:\n",
    "    cross_val(features,labels,C,i,n_iter,5)\n",
    "# w = np.ones(features.shape[1])\n",
    "# w,loss = training(features,labels,w,C,eta,batch_size,n_iter)\n",
    "# pred = predict(w,features)\n",
    "# plt.plot(range(n_iter),loss,label=\"C=\"+str(C))  \n",
    "# print('Mean Accuracy: ',np.round(sum(pred == labels)/(features.shape[0]),3),\"\\n\")"
   ]
  }
 ],
 "metadata": {
  "kernelspec": {
   "display_name": "Python 3",
   "language": "python",
   "name": "python3"
  },
  "language_info": {
   "codemirror_mode": {
    "name": "ipython",
    "version": 3
   },
   "file_extension": ".py",
   "mimetype": "text/x-python",
   "name": "python",
   "nbconvert_exporter": "python",
   "pygments_lexer": "ipython3",
   "version": "3.7.3"
  }
 },
 "nbformat": 4,
 "nbformat_minor": 2
}
