{
 "cells": [
  {
   "cell_type": "code",
   "execution_count": 2,
   "metadata": {},
   "outputs": [],
   "source": [
    "import numpy as np\n",
    "import matplotlib.pyplot as plt\n",
    "import random\n",
    "from sklearn.model_selection import StratifiedKFold\n",
    "import time as tm\n",
    "import itertools"
   ]
  },
  {
   "cell_type": "code",
   "execution_count": 30,
   "metadata": {},
   "outputs": [],
   "source": [
    "def sq_hinge_func(X,Y,W):\n",
    "    return (np.maximum(1-np.multiply(X.dot(W),Y),0))**2"
   ]
  },
  {
   "cell_type": "code",
   "execution_count": 9,
   "metadata": {},
   "outputs": [],
   "source": [
    "# sq_hinge_func(X,Y,W)"
   ]
  },
  {
   "cell_type": "code",
   "execution_count": 7,
   "metadata": {},
   "outputs": [],
   "source": [
    "X=np.array([[1,2,3,4],[3,4,5,6],[5,6,7,8],[7,8,9,9],[10,11,12,13]])\n",
    "Y=np.array([1,-1,1,1,-1])\n",
    "W=np.array([0.5,0.1,0.5,1])\n",
    "\n",
    "# np.multiply(Y,Z)"
   ]
  },
  {
   "cell_type": "code",
   "execution_count": 28,
   "metadata": {},
   "outputs": [],
   "source": [
    "def loss_func(X,Y,W,C=1):\n",
    "#     print(W.shape,)\n",
    "    loss = 0.5*W.dot(W)+ C*sum(sq_hinge_func(X,Y,W))\n",
    "    return loss"
   ]
  },
  {
   "cell_type": "code",
   "execution_count": 24,
   "metadata": {},
   "outputs": [],
   "source": [
    "def getStepLength( eta, t ):\n",
    "    return eta/np.sqrt(t+1)"
   ]
  },
  {
   "cell_type": "code",
   "execution_count": 25,
   "metadata": {},
   "outputs": [],
   "source": [
    "def sq_hinge_gradient(X,Y,W):\n",
    "    pred = X.dot(W)\n",
    "    n = Y.shape[0]\n",
    "    gradients = np.zeros((n,))\n",
    "    margin = np.multiply(Y,pred)\n",
    "    gradients[margin < 1] = -2*(1-margin[margin<1])\n",
    "    \n",
    "    return gradients"
   ]
  },
  {
   "cell_type": "code",
   "execution_count": 26,
   "metadata": {},
   "outputs": [],
   "source": [
    "def mini_batch_SGD(X,Y,n,_iter,W,C=1,eta=0.01):\n",
    "    \n",
    "    w = np.copy(W)\n",
    "    sq_hinge_gr = sq_hinge_gradient(X,Y,w)  \n",
    "    batch_size = X.shape[0]\n",
    "    gradient = w + C * (n/batch_size)*(X.T*sq_hinge_gr).dot(Y)\n",
    "    \n",
    "    w = w- getStepLength(eta,_iter)*gradient\n",
    "    return w"
   ]
  },
  {
   "cell_type": "code",
   "execution_count": 13,
   "metadata": {},
   "outputs": [],
   "source": [
    "data = np.loadtxt('../data')"
   ]
  },
  {
   "cell_type": "code",
   "execution_count": 14,
   "metadata": {},
   "outputs": [],
   "source": [
    "labels = data[:,0]\n",
    "features = data[:,1:]"
   ]
  },
  {
   "cell_type": "code",
   "execution_count": 15,
   "metadata": {},
   "outputs": [],
   "source": [
    "num_training = data.shape[0]"
   ]
  },
  {
   "cell_type": "code",
   "execution_count": 16,
   "metadata": {},
   "outputs": [],
   "source": [
    "features = np.hstack((np.ones((num_training,1)),features))"
   ]
  },
  {
   "cell_type": "code",
   "execution_count": 20,
   "metadata": {},
   "outputs": [],
   "source": [
    "def training(X,Y,W,C=1,eta=0.01,batch_size=128,n_iter=10):\n",
    "    w = np.copy(W)\n",
    "    loss = np.zeros(n_iter)\n",
    "    n = X.shape[0]\n",
    "    for i in range(n_iter):\n",
    "        if (batch_size < n):\n",
    "            tr_index = np.random.choice(range(0,n),batch_size)\n",
    "            X_train,Y_train = X[tr_index,:],Y[tr_index]\n",
    "        else:\n",
    "            X_train,Y_train = X,Y\n",
    "        w = mini_batch_SGD(X_train,Y_train,n,i,w,C,eta)\n",
    "#         print()\n",
    "        loss[i] = loss_func(X,Y,w,C)\n",
    "    return w,loss\n",
    "    \n",
    "    "
   ]
  },
  {
   "cell_type": "code",
   "execution_count": 45,
   "metadata": {},
   "outputs": [],
   "source": [
    "def predict(w,X):\n",
    "    n = X.shape[0]\n",
    "#     X = np.hstack((np.ones((n,1)),features))\n",
    "    pred = np.ones(n)\n",
    "    pred[X.dot(w) < 0] = -1 \n",
    "    return pred"
   ]
  },
  {
   "cell_type": "code",
   "execution_count": 18,
   "metadata": {},
   "outputs": [],
   "source": [
    "def KFold(n,split,shuffle=True):\n",
    "    indices = [i for i in range(n)]\n",
    "    random.shuffle(indices)\n",
    "    split_index = [0,]\n",
    "    for k in range(split-1):\n",
    "        split_index.append(int(n*(k+1)/split))\n",
    "    split_index.append(n)\n",
    "#     print(split_index)\n",
    "    folds=[]\n",
    "    for tst in range(1,split+1):\n",
    "        training_folds,test_folds=[],[]\n",
    "        test_folds= indices[split_index[tst-1]:split_index[tst]]\n",
    "        for tr in range(1,split+1):\n",
    "            if(tr != tst):\n",
    "                training_folds.extend(indices[split_index[tr-1]:split_index[tr]])\n",
    "        folds.append([training_folds,test_folds])\n",
    "        \n",
    "    return folds"
   ]
  },
  {
   "cell_type": "code",
   "execution_count": 21,
   "metadata": {},
   "outputs": [
    {
     "data": {
      "text/plain": [
       "[[[4, 6, 2, 5, 0, 1, 8, 3], [7, 9]],\n",
       " [[7, 9, 2, 5, 0, 1, 8, 3], [4, 6]],\n",
       " [[7, 9, 4, 6, 0, 1, 8, 3], [2, 5]],\n",
       " [[7, 9, 4, 6, 2, 5, 8, 3], [0, 1]],\n",
       " [[7, 9, 4, 6, 2, 5, 0, 1], [8, 3]]]"
      ]
     },
     "execution_count": 21,
     "metadata": {},
     "output_type": "execute_result"
    }
   ],
   "source": [
    "KFold(10,5)"
   ]
  },
  {
   "cell_type": "code",
   "execution_count": 52,
   "metadata": {},
   "outputs": [],
   "source": [
    "def cross_val(X,Y,C=1,eta=0.1,batch_size=128,n_iter=10):\n",
    "    print(\"CV for C=\",C,\"eta=\",eta,\"batch_size=\",batch_size)\n",
    "    split = 3\n",
    "    num_data = X.shape[0]\n",
    "    cv = KFold(num_data,split,shuffle=True)\n",
    "    loss=np.zeros(n_iter)\n",
    "    i,mean = 0,0\n",
    "    for tr_index, tst_index in cv:\n",
    "        X_tr,Y_tr = X[tr_index],Y[tr_index]\n",
    "        X_tst,Y_tst = X[tst_index],Y[tst_index]\n",
    "        w = np.ones(X.shape[1])\n",
    "        tic = tm.perf_counter()\n",
    "        w,_loss = training(X_tr,Y_tr,w,C,eta,batch_size,n_iter)\n",
    "        toc = tm.perf_counter()\n",
    "#         print(loss.shape,_loss.shape)\n",
    "#         loss += _loss\n",
    "        loss += loss_func(X_tst,Y_tst,w)\n",
    "\n",
    "        pred = predict(w,X_tst)\n",
    "        mean += sum(pred == Y_tst)/(X_tst.shape[0])\n",
    "        i+=1\n",
    "        print('split: ',i,sum(pred == Y_tst)/(X_tst.shape[0]))\n",
    "        \n",
    "    plt.plot(range(n_iter),loss/split,label=\"C=\"+str(C)) \n",
    "    print(loss[-1]/split,toc-tic)\n",
    "    print('Mean Accuracy: ',np.round(mean/split,3),\"\\n\")\n",
    "      "
   ]
  },
  {
   "cell_type": "code",
   "execution_count": 33,
   "metadata": {},
   "outputs": [
    {
     "data": {
      "text/plain": [
       "[(0.01, 32), (0.01, 128), (0.01, 512), (0.1, 32), (0.1, 128), (0.1, 512)]"
      ]
     },
     "execution_count": 33,
     "metadata": {},
     "output_type": "execute_result"
    }
   ],
   "source": [
    "param"
   ]
  },
  {
   "cell_type": "code",
   "execution_count": 55,
   "metadata": {
    "scrolled": true
   },
   "outputs": [
    {
     "name": "stdout",
     "output_type": "stream",
     "text": [
      "CV for C= 1 eta= 0.0001 batch_size= 32\n",
      "split:  1 0.8994899489948995\n",
      "split:  2 0.9031048447577621\n",
      "split:  3 0.9043047847607619\n",
      "2420.863479564862 0.6997248239995315\n",
      "Mean Accuracy:  0.902 \n",
      "\n",
      "CV for C= 1 eta= 0.0001 batch_size= 128\n",
      "split:  1 0.8966396639663966\n",
      "split:  2 0.9062546872656367\n",
      "split:  3 0.9056547172641368\n",
      "2329.836625297548 0.5154197129995737\n",
      "Mean Accuracy:  0.903 \n",
      "\n",
      "CV for C= 1 eta= 0.0001 batch_size= 512\n",
      "split:  1 0.9006900690069007\n",
      "split:  2 0.9010049497525123\n",
      "split:  3 0.9071546422678866\n",
      "2309.2274717947325 0.6101998530002675\n",
      "Mean Accuracy:  0.903 \n",
      "\n",
      "CV for C= 1 eta= 0.0005 batch_size= 32\n",
      "split:  1 0.9053405340534053\n",
      "split:  2 0.8936553172341383\n",
      "split:  3 0.9070046497675116\n",
      "555427.6943000401 0.5153260059996683\n",
      "Mean Accuracy:  0.902 \n",
      "\n",
      "CV for C= 1 eta= 0.0005 batch_size= 128\n",
      "split:  1 0.8897389738973898\n",
      "split:  2 0.9034048297585121\n",
      "split:  3 0.9113544322783861\n",
      "10894.456329350616 0.5010020800000348\n",
      "Mean Accuracy:  0.901 \n",
      "\n",
      "CV for C= 1 eta= 0.0005 batch_size= 512\n",
      "split:  1 0.9185418541854186\n",
      "split:  2 0.9112044397780111\n",
      "split:  3 0.9146542672866357\n",
      "2022.3903862446423 0.536951924999812\n",
      "Mean Accuracy:  0.915 \n",
      "\n",
      "CV for C= 1 eta= 0.001 batch_size= 32\n",
      "split:  1 0.9065406540654065\n",
      "split:  2 0.8932053397330133\n",
      "split:  3 0.8968051597420129\n",
      "96202138129.2514 0.5263742650004133\n",
      "Mean Accuracy:  0.899 \n",
      "\n",
      "CV for C= 1 eta= 0.001 batch_size= 128\n",
      "split:  1 0.8888388838883888\n",
      "split:  2 0.9019049047547623\n",
      "split:  3 0.8780560971951402\n",
      "105659995.27809222 0.525644741999713\n",
      "Mean Accuracy:  0.89 \n",
      "\n",
      "CV for C= 1 eta= 0.001 batch_size= 512\n",
      "split:  1 0.8811881188118812\n",
      "split:  2 0.896655167241638\n",
      "split:  3 0.8890055497225139\n",
      "434339061.2059682 0.5497261880000224\n",
      "Mean Accuracy:  0.889 \n",
      "\n"
     ]
    },
    {
     "data": {
      "image/png": "[encoded data removed]",
      "text/plain": [
       "<Figure size 432x288 with 1 Axes>"
      ]
     },
     "metadata": {
      "needs_background": "light"
     },
     "output_type": "display_data"
    }
   ],
   "source": [
    "# C=[0.001,0.01,0.02]\n",
    "eta = [0.0001,0.0005,0.001]\n",
    "batch_size = [32,128,512]\n",
    "param = list(itertools.product(eta,batch_size))\n",
    "C = 1\n",
    "# eta=0.0001\n",
    "# batch_size =512\n",
    "n_iter = 100\n",
    "legends= []\n",
    "for i in param:\n",
    "    cross_val(features,labels,C,i[0],i[1],n_iter)\n",
    "# w = np.ones(features.shape[1])\n",
    "# w,loss = training(features,labels,w,C,eta,batch_size,n_iter)\n",
    "# pred = predict(w,features)\n",
    "# plt.plot(range(n_iter),loss,label=\"C=\"+str(C))  \n",
    "# print('Mean Accuracy: ',np.round(sum(pred == labels)/(features.shape[0]),3),\"\\n\")"
   ]
  },
  {
   "cell_type": "code",
   "execution_count": 164,
   "metadata": {},
   "outputs": [
    {
     "data": {
      "text/plain": [
       "7251.691520843253"
      ]
     },
     "execution_count": 164,
     "metadata": {},
     "output_type": "execute_result"
    }
   ],
   "source": [
    "loss[-1]"
   ]
  },
  {
   "cell_type": "code",
   "execution_count": 141,
   "metadata": {},
   "outputs": [
    {
     "name": "stderr",
     "output_type": "stream",
     "text": [
      "/home/umeshm/anaconda3/lib/python3.7/site-packages/ipykernel_launcher.py:48: RuntimeWarning: overflow encountered in double_scalars\n",
      "/home/umeshm/anaconda3/lib/python3.7/site-packages/ipykernel_launcher.py:49: RuntimeWarning: overflow encountered in multiply\n",
      "/home/umeshm/anaconda3/lib/python3.7/site-packages/ipykernel_launcher.py:49: RuntimeWarning: invalid value encountered in multiply\n",
      "/home/umeshm/anaconda3/lib/python3.7/site-packages/ipykernel_launcher.py:75: RuntimeWarning: invalid value encountered in subtract\n",
      "/home/umeshm/anaconda3/lib/python3.7/site-packages/ipykernel_launcher.py:47: RuntimeWarning: invalid value encountered in less\n"
     ]
    },
    {
     "data": {
      "image/png": "[encoded data removed]",
      "text/plain": [
       "<Figure size 504x504 with 1 Axes>"
      ]
     },
     "metadata": {
      "needs_background": "light"
     },
     "output_type": "display_data"
    }
   ],
   "source": [
    "import time as tm\n",
    "\n",
    "X = features\n",
    "y = labels\n",
    "d = X.shape[1]\n",
    "def getCSVMGrad( theta ):\n",
    "    w = theta[0:-1]\n",
    "    b = theta[-1]\n",
    "    discriminant = np.multiply( (X.dot( w ) + b), y )\n",
    "    g = np.zeros( (y.size,) )\n",
    "    g[discriminant < 1] = -2*(1-discriminant[discriminant<1])\n",
    "    delb = C * g.dot( y )\n",
    "    delw = w + C * (X.T * g).dot( y )\n",
    "    return np.append( delw, delb )\n",
    "\n",
    "# Get a stochastic gradient for the CSVM objective\n",
    "# Choose a random data point per iteration\n",
    "def getCSVMSGrad( theta ):\n",
    "    w = theta[0:-1]\n",
    "    b = theta[-1]\n",
    "    n = y.size\n",
    "    i = random.randint( 0, n-1 )\n",
    "    x = X[i,:]\n",
    "    discriminant = (x.dot( w ) + b) * y[i]\n",
    "    g = 0\n",
    "    if discriminant < 1:\n",
    "        g = -1\n",
    "    delb = C * n * g * y[i]\n",
    "    delw = w + C * n * (x * g) * y[i]\n",
    "    return np.append( delw, delb )\n",
    "\n",
    "# Get a mini-batch stochastic gradient for CSVM\n",
    "# Choose a random set of B samples per iteration\n",
    "def getCSVMMBGrad( theta ):\n",
    "    w = theta[0:-1]\n",
    "    b = theta[-1]\n",
    "    n = y.size\n",
    "    if B <= n:\n",
    "        samples = random.sample( range(0, n), B )\n",
    "        X_ = X[samples,:]\n",
    "        y_ = y[samples]\n",
    "    else:\n",
    "        X_ = X\n",
    "        y_ = y\n",
    "    discriminant = np.multiply( (X_.dot( w ) + b), y_ )\n",
    "    g = np.zeros( (B,) )\n",
    "    g[discriminant < 1] = -2*(1-discriminant[discriminant<1])\n",
    "    delb = C * n/B * g.dot( y_ )\n",
    "    delw = w + C * n/B * (X_.T * g).dot( y_ )\n",
    "    return np.append( delw, delb )\n",
    "\n",
    "# Quite standard for strongly convex but non-smooth objectives like CSVM\n",
    "def getStepLength( grad, t ):\n",
    "    return eta/(t+1)\n",
    "\n",
    "# Get the CSVM objective value in order to plot convergence curves\n",
    "def getCSVMObjVal( theta ):\n",
    "    w = theta[0:-1]\n",
    "    b = theta[-1]\n",
    "    hingeLoss = np.maximum( 1 - np.multiply( (X.dot( w ) + b), y ), 0 )\n",
    "    return 0.5 * w.dot( w ) + C * hingeLoss.dot(hingeLoss)\n",
    "\n",
    "# Given a gradient oracle, a step length oracle, an initialization,\n",
    "# perform GD for a specified number of steps (horizon)\n",
    "# An \"oracle\" is a fancy name for a function that does a certain job perfectly\n",
    "def doGD( gradFunc, stepFunc, init, horizon = 10 ):\n",
    "    objValSeries = np.zeros( (horizon,) )\n",
    "    timeSeries = np.zeros( (horizon,) )\n",
    "    totTime = 0\n",
    "    theta = init\n",
    "    cumulative = init\n",
    "    for t in range( horizon ):\n",
    "        tic = tm.perf_counter()\n",
    "        delta = gradFunc( theta )\n",
    "        theta = theta - stepFunc( delta, t+1 ) * delta\n",
    "        cumulative = cumulative + theta\n",
    "        toc = tm.perf_counter()\n",
    "        totTime = totTime + (toc - tic)\n",
    "        objValSeries[t] = getCSVMObjVal( cumulative/(t+2) )\n",
    "        timeSeries[t] = totTime\n",
    "    return (cumulative/(horizon+1), objValSeries, timeSeries)\n",
    "\n",
    "def mySVM( X ):\n",
    "    return X.dot(w) + b\n",
    "\n",
    "# CSVM problems get progressively more and more difficult as C goes up\n",
    "# All solvers, GD/SGD/sklearn will struggle with large values of C\n",
    "# C = 1\n",
    "# eta = 1000\n",
    "# (theta, obj, time) = doGD( getCSVMGrad, getStepLength, np.zeros( (d+1,) ), horizon = 1000 )\n",
    "\n",
    "# Experiment to observe that SGD and MB offer much faster convergence than GD, especially when n is large\n",
    "# Also, plot just the SGD and MB curves repeatedly to observe that the SGD curve jitters from execution\n",
    "# to execution (an indication of variance) whereas the MB curve remains relatively stable across executions\n",
    "C = 1\n",
    "eta = 1\n",
    "B = 128\n",
    "# (theta_SGD, obj_SGD, time_SGD) = doGD( getCSVMSGrad, getStepLength, np.zeros( (d+1,) ), horizon = 10000 )\n",
    "(theta_MB, obj_MB, time_MB) = doGD( getCSVMMBGrad, getStepLength, np.zeros( (d+1,) ), horizon = 1000 )\n",
    "\n",
    "# w = theta[0:-1]\n",
    "# b = theta[-1]\n",
    "\n",
    "# fig = pd.getFigure( 7, 7 )\n",
    "# plt.figure( figsize=(7,7) )\n",
    "\n",
    "# pd.shade2D( mySVM, fig, mode = 'batch', xlim = 10, ylim = 10 )\n",
    "# pd.plot2D( XPos, fig, color = 'r', marker = '+' )\n",
    "# pd.plot2D( XNeg, fig, color = 'g', marker = 'o' )\n",
    "# plt.show()\n",
    "\n",
    "# w = theta_SGD[0:-1]\n",
    "# b = theta_SGD[-1]\n",
    "\n",
    "# fig2 = pd.getFigure( 7, 7 )\n",
    "# plt.figure( figsize=(7,7) )\n",
    "\n",
    "# # pd.shade2D( mySVM, fig, mode = 'batch', xlim = 10, ylim = 10 )\n",
    "# # pd.plot2D( XPos, fig, color = 'r', marker = '+' )\n",
    "# # pd.plot2D( XNeg, fig, color = 'g', marker = 'o' )\n",
    "# plt.show()\n",
    "\n",
    "w = theta_MB[0:-1]\n",
    "b = theta_MB[-1]\n",
    "\n",
    "# plt.figure( figsize=(7,7) )\n",
    "\n",
    "# pd.shade2D( mySVM, fig, mode = 'batch', xlim = 10, ylim = 10 )\n",
    "# pd.plot2D( XPos, fig, color = 'r', marker = '+' )\n",
    "# pd.plot2D( XNeg, fig, color = 'g', marker = 'o' )\n",
    "# plt.show()\n",
    "obj_MB[-1]\n",
    "plt.figure( figsize=(7,7) )\n",
    "# plt.plot( time, obj, color = 'k', linestyle = '--', label = \"GD\" )\n",
    "# plt.plot( time_SGD, obj_SGD, color = 'r', linestyle = '-', label = \"SGD\" )\n",
    "plt.plot( time_MB, obj_MB, color = 'b', linestyle = ':', label = \"MB\" )\n",
    "plt.xlabel( \"Elapsed time (sec)\" )\n",
    "plt.ylabel( \"C-SVM Objective value\" )\n",
    "plt.legend()\n",
    "plt.ylim( 0, 100000 )\n",
    "plt.show()"
   ]
  },
  {
   "cell_type": "code",
   "execution_count": 133,
   "metadata": {},
   "outputs": [
    {
     "data": {
      "text/plain": [
       "5511.637738926602"
      ]
     },
     "execution_count": 133,
     "metadata": {},
     "output_type": "execute_result"
    }
   ],
   "source": [
    "obj_MB[-1]"
   ]
  },
  {
   "cell_type": "code",
   "execution_count": null,
   "metadata": {},
   "outputs": [],
   "source": []
  }
 ],
 "metadata": {
  "kernelspec": {
   "display_name": "Python 3",
   "language": "python",
   "name": "python3"
  },
  "language_info": {
   "codemirror_mode": {
    "name": "ipython",
    "version": 3
   },
   "file_extension": ".py",
   "mimetype": "text/x-python",
   "name": "python",
   "nbconvert_exporter": "python",
   "pygments_lexer": "ipython3",
   "version": "3.7.3"
  }
 },
 "nbformat": 4,
 "nbformat_minor": 2
}
